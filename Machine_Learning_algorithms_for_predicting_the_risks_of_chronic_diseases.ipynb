{
  "cells": [
    {
      "cell_type": "code",
      "execution_count": 3,
      "metadata": {},
      "outputs": [
        {
          "name": "stdout",
          "output_type": "stream",
          "text": [
            "Requirement already satisfied: Jupyter in c:\\users\\dushy\\appdata\\local\\programs\\python\\python312\\lib\\site-packages (1.0.0)\n",
            "Requirement already satisfied: notebook in c:\\users\\dushy\\appdata\\local\\programs\\python\\python312\\lib\\site-packages (from Jupyter) (7.0.6)\n",
            "Requirement already satisfied: qtconsole in c:\\users\\dushy\\appdata\\local\\programs\\python\\python312\\lib\\site-packages (from Jupyter) (5.5.1)\n",
            "Requirement already satisfied: jupyter-console in c:\\users\\dushy\\appdata\\local\\programs\\python\\python312\\lib\\site-packages (from Jupyter) (6.6.3)\n",
            "Requirement already satisfied: nbconvert in c:\\users\\dushy\\appdata\\local\\programs\\python\\python312\\lib\\site-packages (from Jupyter) (7.11.0)\n",
            "Requirement already satisfied: ipykernel in c:\\users\\dushy\\appdata\\local\\programs\\python\\python312\\lib\\site-packages (from Jupyter) (6.26.0)\n",
            "Requirement already satisfied: ipywidgets in c:\\users\\dushy\\appdata\\local\\programs\\python\\python312\\lib\\site-packages (from Jupyter) (8.1.1)\n",
            "Requirement already satisfied: comm>=0.1.1 in c:\\users\\dushy\\appdata\\local\\programs\\python\\python312\\lib\\site-packages (from ipykernel->Jupyter) (0.2.0)\n",
            "Requirement already satisfied: debugpy>=1.6.5 in c:\\users\\dushy\\appdata\\local\\programs\\python\\python312\\lib\\site-packages (from ipykernel->Jupyter) (1.8.0)\n",
            "Requirement already satisfied: ipython>=7.23.1 in c:\\users\\dushy\\appdata\\local\\programs\\python\\python312\\lib\\site-packages (from ipykernel->Jupyter) (8.18.0)\n",
            "Requirement already satisfied: jupyter-client>=6.1.12 in c:\\users\\dushy\\appdata\\local\\programs\\python\\python312\\lib\\site-packages (from ipykernel->Jupyter) (8.6.0)\n",
            "Requirement already satisfied: jupyter-core!=5.0.*,>=4.12 in c:\\users\\dushy\\appdata\\local\\programs\\python\\python312\\lib\\site-packages (from ipykernel->Jupyter) (5.5.0)\n",
            "Requirement already satisfied: matplotlib-inline>=0.1 in c:\\users\\dushy\\appdata\\local\\programs\\python\\python312\\lib\\site-packages (from ipykernel->Jupyter) (0.1.6)\n",
            "Requirement already satisfied: nest-asyncio in c:\\users\\dushy\\appdata\\local\\programs\\python\\python312\\lib\\site-packages (from ipykernel->Jupyter) (1.5.8)\n",
            "Requirement already satisfied: packaging in c:\\users\\dushy\\appdata\\local\\programs\\python\\python312\\lib\\site-packages (from ipykernel->Jupyter) (23.2)\n",
            "Requirement already satisfied: psutil in c:\\users\\dushy\\appdata\\local\\programs\\python\\python312\\lib\\site-packages (from ipykernel->Jupyter) (5.9.6)\n",
            "Requirement already satisfied: pyzmq>=20 in c:\\users\\dushy\\appdata\\local\\programs\\python\\python312\\lib\\site-packages (from ipykernel->Jupyter) (25.1.1)\n",
            "Requirement already satisfied: tornado>=6.1 in c:\\users\\dushy\\appdata\\local\\programs\\python\\python312\\lib\\site-packages (from ipykernel->Jupyter) (6.3.3)\n",
            "Requirement already satisfied: traitlets>=5.4.0 in c:\\users\\dushy\\appdata\\local\\programs\\python\\python312\\lib\\site-packages (from ipykernel->Jupyter) (5.13.0)\n",
            "Requirement already satisfied: widgetsnbextension~=4.0.9 in c:\\users\\dushy\\appdata\\local\\programs\\python\\python312\\lib\\site-packages (from ipywidgets->Jupyter) (4.0.9)\n",
            "Requirement already satisfied: jupyterlab-widgets~=3.0.9 in c:\\users\\dushy\\appdata\\local\\programs\\python\\python312\\lib\\site-packages (from ipywidgets->Jupyter) (3.0.9)\n",
            "Requirement already satisfied: prompt-toolkit>=3.0.30 in c:\\users\\dushy\\appdata\\local\\programs\\python\\python312\\lib\\site-packages (from jupyter-console->Jupyter) (3.0.41)\n",
            "Requirement already satisfied: pygments in c:\\users\\dushy\\appdata\\local\\programs\\python\\python312\\lib\\site-packages (from jupyter-console->Jupyter) (2.17.2)\n",
            "Requirement already satisfied: beautifulsoup4 in c:\\users\\dushy\\appdata\\local\\programs\\python\\python312\\lib\\site-packages (from nbconvert->Jupyter) (4.12.2)\n",
            "Requirement already satisfied: bleach!=5.0.0 in c:\\users\\dushy\\appdata\\local\\programs\\python\\python312\\lib\\site-packages (from nbconvert->Jupyter) (6.1.0)\n",
            "Requirement already satisfied: defusedxml in c:\\users\\dushy\\appdata\\local\\programs\\python\\python312\\lib\\site-packages (from nbconvert->Jupyter) (0.7.1)\n",
            "Requirement already satisfied: jinja2>=3.0 in c:\\users\\dushy\\appdata\\local\\programs\\python\\python312\\lib\\site-packages (from nbconvert->Jupyter) (3.1.2)\n",
            "Requirement already satisfied: jupyterlab-pygments in c:\\users\\dushy\\appdata\\local\\programs\\python\\python312\\lib\\site-packages (from nbconvert->Jupyter) (0.3.0)\n",
            "Requirement already satisfied: markupsafe>=2.0 in c:\\users\\dushy\\appdata\\local\\programs\\python\\python312\\lib\\site-packages (from nbconvert->Jupyter) (2.1.3)\n",
            "Requirement already satisfied: mistune<4,>=2.0.3 in c:\\users\\dushy\\appdata\\local\\programs\\python\\python312\\lib\\site-packages (from nbconvert->Jupyter) (3.0.2)\n",
            "Requirement already satisfied: nbclient>=0.5.0 in c:\\users\\dushy\\appdata\\local\\programs\\python\\python312\\lib\\site-packages (from nbconvert->Jupyter) (0.9.0)\n",
            "Requirement already satisfied: nbformat>=5.7 in c:\\users\\dushy\\appdata\\local\\programs\\python\\python312\\lib\\site-packages (from nbconvert->Jupyter) (5.9.2)\n",
            "Requirement already satisfied: pandocfilters>=1.4.1 in c:\\users\\dushy\\appdata\\local\\programs\\python\\python312\\lib\\site-packages (from nbconvert->Jupyter) (1.5.0)\n",
            "Requirement already satisfied: tinycss2 in c:\\users\\dushy\\appdata\\local\\programs\\python\\python312\\lib\\site-packages (from nbconvert->Jupyter) (1.2.1)\n",
            "Requirement already satisfied: jupyter-server<3,>=2.4.0 in c:\\users\\dushy\\appdata\\local\\programs\\python\\python312\\lib\\site-packages (from notebook->Jupyter) (2.10.1)\n",
            "Requirement already satisfied: jupyterlab-server<3,>=2.22.1 in c:\\users\\dushy\\appdata\\local\\programs\\python\\python312\\lib\\site-packages (from notebook->Jupyter) (2.25.2)\n",
            "Requirement already satisfied: jupyterlab<5,>=4.0.2 in c:\\users\\dushy\\appdata\\local\\programs\\python\\python312\\lib\\site-packages (from notebook->Jupyter) (4.0.9)\n",
            "Requirement already satisfied: notebook-shim<0.3,>=0.2 in c:\\users\\dushy\\appdata\\local\\programs\\python\\python312\\lib\\site-packages (from notebook->Jupyter) (0.2.3)\n",
            "Requirement already satisfied: qtpy>=2.4.0 in c:\\users\\dushy\\appdata\\local\\programs\\python\\python312\\lib\\site-packages (from qtconsole->Jupyter) (2.4.1)\n",
            "Requirement already satisfied: six>=1.9.0 in c:\\users\\dushy\\appdata\\local\\programs\\python\\python312\\lib\\site-packages (from bleach!=5.0.0->nbconvert->Jupyter) (1.16.0)\n",
            "Requirement already satisfied: webencodings in c:\\users\\dushy\\appdata\\local\\programs\\python\\python312\\lib\\site-packages (from bleach!=5.0.0->nbconvert->Jupyter) (0.5.1)\n",
            "Requirement already satisfied: decorator in c:\\users\\dushy\\appdata\\local\\programs\\python\\python312\\lib\\site-packages (from ipython>=7.23.1->ipykernel->Jupyter) (5.1.1)\n",
            "Requirement already satisfied: jedi>=0.16 in c:\\users\\dushy\\appdata\\local\\programs\\python\\python312\\lib\\site-packages (from ipython>=7.23.1->ipykernel->Jupyter) (0.19.1)\n",
            "Requirement already satisfied: stack-data in c:\\users\\dushy\\appdata\\local\\programs\\python\\python312\\lib\\site-packages (from ipython>=7.23.1->ipykernel->Jupyter) (0.6.3)\n",
            "Requirement already satisfied: colorama in c:\\users\\dushy\\appdata\\local\\programs\\python\\python312\\lib\\site-packages (from ipython>=7.23.1->ipykernel->Jupyter) (0.4.6)\n",
            "Requirement already satisfied: python-dateutil>=2.8.2 in c:\\users\\dushy\\appdata\\local\\programs\\python\\python312\\lib\\site-packages (from jupyter-client>=6.1.12->ipykernel->Jupyter) (2.8.2)\n",
            "Requirement already satisfied: platformdirs>=2.5 in c:\\users\\dushy\\appdata\\local\\programs\\python\\python312\\lib\\site-packages (from jupyter-core!=5.0.*,>=4.12->ipykernel->Jupyter) (4.0.0)\n",
            "Requirement already satisfied: pywin32>=300 in c:\\users\\dushy\\appdata\\local\\programs\\python\\python312\\lib\\site-packages (from jupyter-core!=5.0.*,>=4.12->ipykernel->Jupyter) (306)\n",
            "Requirement already satisfied: anyio>=3.1.0 in c:\\users\\dushy\\appdata\\local\\programs\\python\\python312\\lib\\site-packages (from jupyter-server<3,>=2.4.0->notebook->Jupyter) (4.1.0)\n",
            "Requirement already satisfied: argon2-cffi in c:\\users\\dushy\\appdata\\local\\programs\\python\\python312\\lib\\site-packages (from jupyter-server<3,>=2.4.0->notebook->Jupyter) (23.1.0)\n",
            "Requirement already satisfied: jupyter-events>=0.9.0 in c:\\users\\dushy\\appdata\\local\\programs\\python\\python312\\lib\\site-packages (from jupyter-server<3,>=2.4.0->notebook->Jupyter) (0.9.0)\n",
            "Requirement already satisfied: jupyter-server-terminals in c:\\users\\dushy\\appdata\\local\\programs\\python\\python312\\lib\\site-packages (from jupyter-server<3,>=2.4.0->notebook->Jupyter) (0.4.4)\n",
            "Requirement already satisfied: overrides in c:\\users\\dushy\\appdata\\local\\programs\\python\\python312\\lib\\site-packages (from jupyter-server<3,>=2.4.0->notebook->Jupyter) (7.4.0)\n",
            "Requirement already satisfied: prometheus-client in c:\\users\\dushy\\appdata\\local\\programs\\python\\python312\\lib\\site-packages (from jupyter-server<3,>=2.4.0->notebook->Jupyter) (0.19.0)\n",
            "Requirement already satisfied: pywinpty in c:\\users\\dushy\\appdata\\local\\programs\\python\\python312\\lib\\site-packages (from jupyter-server<3,>=2.4.0->notebook->Jupyter) (2.0.12)\n",
            "Requirement already satisfied: send2trash>=1.8.2 in c:\\users\\dushy\\appdata\\local\\programs\\python\\python312\\lib\\site-packages (from jupyter-server<3,>=2.4.0->notebook->Jupyter) (1.8.2)\n",
            "Requirement already satisfied: terminado>=0.8.3 in c:\\users\\dushy\\appdata\\local\\programs\\python\\python312\\lib\\site-packages (from jupyter-server<3,>=2.4.0->notebook->Jupyter) (0.18.0)\n",
            "Requirement already satisfied: websocket-client in c:\\users\\dushy\\appdata\\local\\programs\\python\\python312\\lib\\site-packages (from jupyter-server<3,>=2.4.0->notebook->Jupyter) (1.6.4)\n",
            "Requirement already satisfied: async-lru>=1.0.0 in c:\\users\\dushy\\appdata\\local\\programs\\python\\python312\\lib\\site-packages (from jupyterlab<5,>=4.0.2->notebook->Jupyter) (2.0.4)\n",
            "Requirement already satisfied: jupyter-lsp>=2.0.0 in c:\\users\\dushy\\appdata\\local\\programs\\python\\python312\\lib\\site-packages (from jupyterlab<5,>=4.0.2->notebook->Jupyter) (2.2.0)\n",
            "Requirement already satisfied: babel>=2.10 in c:\\users\\dushy\\appdata\\local\\programs\\python\\python312\\lib\\site-packages (from jupyterlab-server<3,>=2.22.1->notebook->Jupyter) (2.13.1)\n",
            "Requirement already satisfied: json5>=0.9.0 in c:\\users\\dushy\\appdata\\local\\programs\\python\\python312\\lib\\site-packages (from jupyterlab-server<3,>=2.22.1->notebook->Jupyter) (0.9.14)\n",
            "Requirement already satisfied: jsonschema>=4.18.0 in c:\\users\\dushy\\appdata\\local\\programs\\python\\python312\\lib\\site-packages (from jupyterlab-server<3,>=2.22.1->notebook->Jupyter) (4.20.0)\n",
            "Requirement already satisfied: requests>=2.31 in c:\\users\\dushy\\appdata\\local\\programs\\python\\python312\\lib\\site-packages (from jupyterlab-server<3,>=2.22.1->notebook->Jupyter) (2.31.0)\n",
            "Requirement already satisfied: fastjsonschema in c:\\users\\dushy\\appdata\\local\\programs\\python\\python312\\lib\\site-packages (from nbformat>=5.7->nbconvert->Jupyter) (2.19.0)\n",
            "Requirement already satisfied: wcwidth in c:\\users\\dushy\\appdata\\local\\programs\\python\\python312\\lib\\site-packages (from prompt-toolkit>=3.0.30->jupyter-console->Jupyter) (0.2.12)\n",
            "Requirement already satisfied: soupsieve>1.2 in c:\\users\\dushy\\appdata\\local\\programs\\python\\python312\\lib\\site-packages (from beautifulsoup4->nbconvert->Jupyter) (2.5)\n",
            "Requirement already satisfied: idna>=2.8 in c:\\users\\dushy\\appdata\\local\\programs\\python\\python312\\lib\\site-packages (from anyio>=3.1.0->jupyter-server<3,>=2.4.0->notebook->Jupyter) (3.5)\n",
            "Requirement already satisfied: sniffio>=1.1 in c:\\users\\dushy\\appdata\\local\\programs\\python\\python312\\lib\\site-packages (from anyio>=3.1.0->jupyter-server<3,>=2.4.0->notebook->Jupyter) (1.3.0)\n",
            "Requirement already satisfied: setuptools in c:\\users\\dushy\\appdata\\local\\programs\\python\\python312\\lib\\site-packages (from babel>=2.10->jupyterlab-server<3,>=2.22.1->notebook->Jupyter) (69.0.2)\n",
            "Requirement already satisfied: parso<0.9.0,>=0.8.3 in c:\\users\\dushy\\appdata\\local\\programs\\python\\python312\\lib\\site-packages (from jedi>=0.16->ipython>=7.23.1->ipykernel->Jupyter) (0.8.3)\n",
            "Requirement already satisfied: attrs>=22.2.0 in c:\\users\\dushy\\appdata\\local\\programs\\python\\python312\\lib\\site-packages (from jsonschema>=4.18.0->jupyterlab-server<3,>=2.22.1->notebook->Jupyter) (23.1.0)\n",
            "Requirement already satisfied: jsonschema-specifications>=2023.03.6 in c:\\users\\dushy\\appdata\\local\\programs\\python\\python312\\lib\\site-packages (from jsonschema>=4.18.0->jupyterlab-server<3,>=2.22.1->notebook->Jupyter) (2023.11.1)\n",
            "Requirement already satisfied: referencing>=0.28.4 in c:\\users\\dushy\\appdata\\local\\programs\\python\\python312\\lib\\site-packages (from jsonschema>=4.18.0->jupyterlab-server<3,>=2.22.1->notebook->Jupyter) (0.31.0)\n",
            "Requirement already satisfied: rpds-py>=0.7.1 in c:\\users\\dushy\\appdata\\local\\programs\\python\\python312\\lib\\site-packages (from jsonschema>=4.18.0->jupyterlab-server<3,>=2.22.1->notebook->Jupyter) (0.13.1)\n",
            "Requirement already satisfied: python-json-logger>=2.0.4 in c:\\users\\dushy\\appdata\\local\\programs\\python\\python312\\lib\\site-packages (from jupyter-events>=0.9.0->jupyter-server<3,>=2.4.0->notebook->Jupyter) (2.0.7)\n",
            "Requirement already satisfied: pyyaml>=5.3 in c:\\users\\dushy\\appdata\\local\\programs\\python\\python312\\lib\\site-packages (from jupyter-events>=0.9.0->jupyter-server<3,>=2.4.0->notebook->Jupyter) (6.0.1)\n",
            "Requirement already satisfied: rfc3339-validator in c:\\users\\dushy\\appdata\\local\\programs\\python\\python312\\lib\\site-packages (from jupyter-events>=0.9.0->jupyter-server<3,>=2.4.0->notebook->Jupyter) (0.1.4)\n",
            "Requirement already satisfied: rfc3986-validator>=0.1.1 in c:\\users\\dushy\\appdata\\local\\programs\\python\\python312\\lib\\site-packages (from jupyter-events>=0.9.0->jupyter-server<3,>=2.4.0->notebook->Jupyter) (0.1.1)\n",
            "Requirement already satisfied: charset-normalizer<4,>=2 in c:\\users\\dushy\\appdata\\local\\programs\\python\\python312\\lib\\site-packages (from requests>=2.31->jupyterlab-server<3,>=2.22.1->notebook->Jupyter) (3.3.2)\n",
            "Requirement already satisfied: urllib3<3,>=1.21.1 in c:\\users\\dushy\\appdata\\local\\programs\\python\\python312\\lib\\site-packages (from requests>=2.31->jupyterlab-server<3,>=2.22.1->notebook->Jupyter) (2.1.0)\n",
            "Requirement already satisfied: certifi>=2017.4.17 in c:\\users\\dushy\\appdata\\local\\programs\\python\\python312\\lib\\site-packages (from requests>=2.31->jupyterlab-server<3,>=2.22.1->notebook->Jupyter) (2023.11.17)\n",
            "Requirement already satisfied: argon2-cffi-bindings in c:\\users\\dushy\\appdata\\local\\programs\\python\\python312\\lib\\site-packages (from argon2-cffi->jupyter-server<3,>=2.4.0->notebook->Jupyter) (21.2.0)\n",
            "Requirement already satisfied: executing>=1.2.0 in c:\\users\\dushy\\appdata\\local\\programs\\python\\python312\\lib\\site-packages (from stack-data->ipython>=7.23.1->ipykernel->Jupyter) (2.0.1)\n",
            "Requirement already satisfied: asttokens>=2.1.0 in c:\\users\\dushy\\appdata\\local\\programs\\python\\python312\\lib\\site-packages (from stack-data->ipython>=7.23.1->ipykernel->Jupyter) (2.4.1)\n",
            "Requirement already satisfied: pure-eval in c:\\users\\dushy\\appdata\\local\\programs\\python\\python312\\lib\\site-packages (from stack-data->ipython>=7.23.1->ipykernel->Jupyter) (0.2.2)\n",
            "Requirement already satisfied: fqdn in c:\\users\\dushy\\appdata\\local\\programs\\python\\python312\\lib\\site-packages (from jsonschema[format-nongpl]>=4.18.0->jupyter-events>=0.9.0->jupyter-server<3,>=2.4.0->notebook->Jupyter) (1.5.1)\n",
            "Requirement already satisfied: isoduration in c:\\users\\dushy\\appdata\\local\\programs\\python\\python312\\lib\\site-packages (from jsonschema[format-nongpl]>=4.18.0->jupyter-events>=0.9.0->jupyter-server<3,>=2.4.0->notebook->Jupyter) (20.11.0)\n",
            "Requirement already satisfied: jsonpointer>1.13 in c:\\users\\dushy\\appdata\\local\\programs\\python\\python312\\lib\\site-packages (from jsonschema[format-nongpl]>=4.18.0->jupyter-events>=0.9.0->jupyter-server<3,>=2.4.0->notebook->Jupyter) (2.4)\n",
            "Requirement already satisfied: uri-template in c:\\users\\dushy\\appdata\\local\\programs\\python\\python312\\lib\\site-packages (from jsonschema[format-nongpl]>=4.18.0->jupyter-events>=0.9.0->jupyter-server<3,>=2.4.0->notebook->Jupyter) (1.3.0)\n",
            "Requirement already satisfied: webcolors>=1.11 in c:\\users\\dushy\\appdata\\local\\programs\\python\\python312\\lib\\site-packages (from jsonschema[format-nongpl]>=4.18.0->jupyter-events>=0.9.0->jupyter-server<3,>=2.4.0->notebook->Jupyter) (1.13)\n",
            "Requirement already satisfied: cffi>=1.0.1 in c:\\users\\dushy\\appdata\\local\\programs\\python\\python312\\lib\\site-packages (from argon2-cffi-bindings->argon2-cffi->jupyter-server<3,>=2.4.0->notebook->Jupyter) (1.16.0)\n",
            "Requirement already satisfied: pycparser in c:\\users\\dushy\\appdata\\local\\programs\\python\\python312\\lib\\site-packages (from cffi>=1.0.1->argon2-cffi-bindings->argon2-cffi->jupyter-server<3,>=2.4.0->notebook->Jupyter) (2.21)\n",
            "Requirement already satisfied: arrow>=0.15.0 in c:\\users\\dushy\\appdata\\local\\programs\\python\\python312\\lib\\site-packages (from isoduration->jsonschema[format-nongpl]>=4.18.0->jupyter-events>=0.9.0->jupyter-server<3,>=2.4.0->notebook->Jupyter) (1.3.0)\n",
            "Requirement already satisfied: types-python-dateutil>=2.8.10 in c:\\users\\dushy\\appdata\\local\\programs\\python\\python312\\lib\\site-packages (from arrow>=0.15.0->isoduration->jsonschema[format-nongpl]>=4.18.0->jupyter-events>=0.9.0->jupyter-server<3,>=2.4.0->notebook->Jupyter) (2.8.19.14)\n",
            "Note: you may need to restart the kernel to use updated packages.\n"
          ]
        }
      ],
      "source": [
        "%pip install Jupyter"
      ]
    },
    {
      "cell_type": "code",
      "execution_count": null,
      "metadata": {
        "id": "fede2rOumCE2"
      },
      "outputs": [],
      "source": [
        "# Import Dependencies\n",
        "import csv\n",
        "import pandas as pd\n",
        "import numpy as np\n",
        "from collections import defaultdict\n",
        "import seaborn as sns\n",
        "import matplotlib.pyplot as plt\n",
        "%matplotlib inline"
      ]
    },
    {
      "cell_type": "code",
      "execution_count": null,
      "metadata": {
        "id": "F7C0dzgZrFbV"
      },
      "outputs": [],
      "source": [
        "# Read Raw Dataset\n",
        "df = pd.read_excel('/content/raw_data.xlsx')"
      ]
    },
    {
      "cell_type": "code",
      "execution_count": null,
      "metadata": {
        "colab": {
          "base_uri": "https://localhost:8080/",
          "height": 206
        },
        "id": "Bfg3oVWyrPuW",
        "outputId": "81d23987-9686-4d41-e344-fce77496c3ca"
      },
      "outputs": [],
      "source": [
        "df.head()"
      ]
    },
    {
      "cell_type": "code",
      "execution_count": null,
      "metadata": {
        "colab": {
          "base_uri": "https://localhost:8080/"
        },
        "id": "c3o3BGsYAWqx",
        "outputId": "d4d98ed3-dfa7-421f-e4ac-f433900667d5"
      },
      "outputs": [],
      "source": [
        "df.info()"
      ]
    },
    {
      "cell_type": "code",
      "execution_count": null,
      "metadata": {
        "id": "QXMfbXKXvfnF"
      },
      "outputs": [],
      "source": [
        "# Fill all NaN with the values above\n",
        "data = df.fillna(method='ffill')"
      ]
    },
    {
      "cell_type": "code",
      "execution_count": null,
      "metadata": {
        "colab": {
          "base_uri": "https://localhost:8080/",
          "height": 206
        },
        "id": "WJYjfWeqvjyd",
        "outputId": "04e98093-2c36-4745-969f-3d5deccf3fca"
      },
      "outputs": [],
      "source": [
        "data.head()"
      ]
    },
    {
      "cell_type": "code",
      "execution_count": null,
      "metadata": {
        "id": "g-eBJ7vSvk_h"
      },
      "outputs": [],
      "source": [
        "# Process Disease and Symptom Names\n",
        "def process_data(data):\n",
        "    data_list = []\n",
        "    data_name = data.replace('^','_').split('_')\n",
        "    n = 1\n",
        "    for names in data_name:\n",
        "        if (n % 2 == 0):\n",
        "            data_list.append(names)\n",
        "        n += 1\n",
        "    return data_list"
      ]
    },
    {
      "cell_type": "code",
      "execution_count": null,
      "metadata": {
        "id": "vUduRWh-vme1"
      },
      "outputs": [],
      "source": [
        "# Data Cleanup\n",
        "disease_list = []\n",
        "disease_symptom_dict = defaultdict(list)\n",
        "disease_symptom_count = {}\n",
        "count = 0\n",
        "\n",
        "for idx, row in data.iterrows():\n",
        "\n",
        "    # Get the Disease Names\n",
        "    if (row['Disease'] !=\"\\xc2\\xa0\") and (row['Disease'] != \"\"):\n",
        "        disease = row['Disease']\n",
        "        disease_list = process_data(data=disease)\n",
        "        count = row['Count of Disease Occurrence']\n",
        "\n",
        "    # Get the Symptoms Corresponding to Diseases\n",
        "    if (row['Symptom'] !=\"\\xc2\\xa0\") and (row['Symptom'] != \"\"):\n",
        "        symptom = row['Symptom']\n",
        "        symptom_list = process_data(data=symptom)\n",
        "        for d in disease_list:\n",
        "            for s in symptom_list:\n",
        "                disease_symptom_dict[d].append(s)\n",
        "            disease_symptom_count[d] = count"
      ]
    },
    {
      "cell_type": "code",
      "execution_count": null,
      "metadata": {
        "colab": {
          "base_uri": "https://localhost:8080/"
        },
        "id": "rVwlSlKlvoGE",
        "outputId": "75a5553b-3440-4893-a237-5e12386d1152"
      },
      "outputs": [],
      "source": [
        "# See that the data is Processed Correctly\n",
        "disease_symptom_dict"
      ]
    },
    {
      "cell_type": "code",
      "execution_count": null,
      "metadata": {
        "colab": {
          "base_uri": "https://localhost:8080/"
        },
        "id": "1CioFmOdvpNs",
        "outputId": "26c4ebfe-bc87-447d-af1b-37214ce6e03d"
      },
      "outputs": [],
      "source": [
        "# Count of Disease Occurence w.r.t each Disease\n",
        "disease_symptom_count"
      ]
    },
    {
      "cell_type": "code",
      "execution_count": null,
      "metadata": {
        "id": "hCSzdAxgv4Bz"
      },
      "outputs": [],
      "source": [
        "# Save cleaned data as CSV\n",
        "f = open('/content/cleaned_data.csv', 'w')\n",
        "\n",
        "with f:\n",
        "    writer = csv.writer(f)\n",
        "    for key, val in disease_symptom_dict.items():\n",
        "        for i in range(len(val)):\n",
        "            writer.writerow([key, val[i], disease_symptom_count[key]])"
      ]
    },
    {
      "cell_type": "code",
      "execution_count": null,
      "metadata": {
        "colab": {
          "base_uri": "https://localhost:8080/",
          "height": 206
        },
        "id": "VtN-aK10v8Zq",
        "outputId": "c2916187-4f4f-4dee-ee23-557176f2e6df"
      },
      "outputs": [],
      "source": [
        "# Read Cleaned Data as DF\n",
        "df = pd.read_csv('/content/cleaned_data.csv')\n",
        "df.columns = ['disease', 'symptom', 'occurence_count']\n",
        "df.head()"
      ]
    },
    {
      "cell_type": "code",
      "execution_count": null,
      "metadata": {
        "id": "dkt2mOMX6A8G"
      },
      "outputs": [],
      "source": [
        "# Remove any rows with empty values\n",
        "df.replace(float('nan'), np.nan, inplace=True)\n",
        "df.dropna(inplace=True)"
      ]
    },
    {
      "cell_type": "code",
      "execution_count": null,
      "metadata": {
        "id": "aY0UJSsL6HRx"
      },
      "outputs": [],
      "source": [
        "%pip install -U scikit-learn\n",
        "from sklearn import preprocessing"
      ]
    },
    {
      "cell_type": "code",
      "execution_count": null,
      "metadata": {
        "colab": {
          "base_uri": "https://localhost:8080/"
        },
        "id": "fSaUcmI56Iaa",
        "outputId": "1366ba4d-7c80-425a-800e-11912b214647"
      },
      "outputs": [],
      "source": [
        "n_unique = len(df['symptom'].unique())\n",
        "n_unique"
      ]
    },
    {
      "cell_type": "code",
      "execution_count": null,
      "metadata": {
        "colab": {
          "base_uri": "https://localhost:8080/"
        },
        "id": "7X6gSt0v6Jf7",
        "outputId": "e82b4d27-7c2e-4ec2-c1e8-4b643b4e942e"
      },
      "outputs": [],
      "source": [
        "df.dtypes"
      ]
    },
    {
      "cell_type": "code",
      "execution_count": null,
      "metadata": {
        "colab": {
          "base_uri": "https://localhost:8080/"
        },
        "id": "wUQOdx7B6Kn1",
        "outputId": "1bc332e4-a3c4-4f74-be17-c73e9da695c6"
      },
      "outputs": [],
      "source": [
        "# Encode the Labels\n",
        "from sklearn.preprocessing import LabelEncoder\n",
        "from sklearn.preprocessing import OneHotEncoder\n",
        "\n",
        "label_encoder = LabelEncoder()\n",
        "integer_encoded = label_encoder.fit_transform(df['symptom'])\n",
        "print(integer_encoded)"
      ]
    },
    {
      "cell_type": "code",
      "execution_count": null,
      "metadata": {
        "colab": {
          "base_uri": "https://localhost:8080/"
        },
        "id": "-9DhCZo-6MHT",
        "outputId": "7f8db436-af52-4211-e2c3-30ea70597af4"
      },
      "outputs": [],
      "source": [
        "# One Hot Encode the Labels\n",
        "onehot_encoder = OneHotEncoder(sparse=False)\n",
        "integer_encoded = integer_encoded.reshape(len(integer_encoded), 1)\n",
        "onehot_encoded = onehot_encoder.fit_transform(integer_encoded)\n",
        "print(onehot_encoded)"
      ]
    },
    {
      "cell_type": "code",
      "execution_count": null,
      "metadata": {
        "colab": {
          "base_uri": "https://localhost:8080/"
        },
        "id": "t5jLKPrD6NYO",
        "outputId": "45cc6b68-ac90-4040-a6b6-2bb7fd75ae61"
      },
      "outputs": [],
      "source": [
        "onehot_encoded[0]"
      ]
    },
    {
      "cell_type": "code",
      "execution_count": null,
      "metadata": {
        "colab": {
          "base_uri": "https://localhost:8080/"
        },
        "id": "ClP-Vx4q6Opg",
        "outputId": "1d92bd60-4197-4b97-becb-4c9b6d3db3a8"
      },
      "outputs": [],
      "source": [
        "len(onehot_encoded[0])"
      ]
    },
    {
      "cell_type": "code",
      "execution_count": null,
      "metadata": {
        "colab": {
          "base_uri": "https://localhost:8080/"
        },
        "id": "nBP_vTm36Qd3",
        "outputId": "818d6c7b-f9ac-4738-91ba-5cc3f7e3fdf8"
      },
      "outputs": [],
      "source": [
        "cols = np.asarray(df['symptom'].unique())\n",
        "cols"
      ]
    },
    {
      "cell_type": "code",
      "execution_count": null,
      "metadata": {
        "colab": {
          "base_uri": "https://localhost:8080/",
          "height": 151
        },
        "id": "lIs06MoF6R6L",
        "outputId": "ee47a212-4ce7-4716-8fd0-9162b737fd1c"
      },
      "outputs": [],
      "source": [
        "# Create a new dataframe to save OHE labels\n",
        "df_ohe = pd.DataFrame(columns = cols)\n",
        "df_ohe.head()"
      ]
    },
    {
      "cell_type": "code",
      "execution_count": null,
      "metadata": {
        "id": "Ro8s6C2Q6UAc"
      },
      "outputs": [],
      "source": [
        "for i in range(len(onehot_encoded)):\n",
        "    df_ohe.loc[i] = onehot_encoded[i]"
      ]
    },
    {
      "cell_type": "code",
      "execution_count": null,
      "metadata": {
        "colab": {
          "base_uri": "https://localhost:8080/",
          "height": 307
        },
        "id": "xE4TtcNV6WSz",
        "outputId": "2506c326-63a6-4d8b-f044-a54a25c9eb09"
      },
      "outputs": [],
      "source": [
        "\n",
        "df_ohe.head()"
      ]
    },
    {
      "cell_type": "code",
      "execution_count": null,
      "metadata": {
        "colab": {
          "base_uri": "https://localhost:8080/"
        },
        "id": "OnNKg-gx6X5a",
        "outputId": "5640fb2b-339d-48f8-ba08-abd274fc1584"
      },
      "outputs": [],
      "source": [
        "\n",
        "len(df_ohe)"
      ]
    },
    {
      "cell_type": "code",
      "execution_count": null,
      "metadata": {
        "colab": {
          "base_uri": "https://localhost:8080/"
        },
        "id": "yl-59sYB6ZRH",
        "outputId": "c746efc1-7ded-46ca-cbf1-66d6067483ed"
      },
      "outputs": [],
      "source": [
        "# Disease Dataframe\n",
        "df_disease = df['disease']\n",
        "df_disease.head()"
      ]
    },
    {
      "cell_type": "code",
      "execution_count": null,
      "metadata": {
        "colab": {
          "base_uri": "https://localhost:8080/",
          "height": 394
        },
        "id": "NXGykcT96atb",
        "outputId": "a09896f6-a0da-4633-b58b-78bd3b4bd118"
      },
      "outputs": [],
      "source": [
        "# Concatenate OHE Labels with the Disease Column\n",
        "df_concat = pd.concat([df_disease,df_ohe], axis=1)\n",
        "df_concat.head()"
      ]
    },
    {
      "cell_type": "code",
      "execution_count": null,
      "metadata": {
        "id": "Y0bX5jPA6jpC"
      },
      "outputs": [],
      "source": [
        "df_concat.drop_duplicates(keep='first',inplace=True)"
      ]
    },
    {
      "cell_type": "code",
      "execution_count": null,
      "metadata": {
        "colab": {
          "base_uri": "https://localhost:8080/",
          "height": 394
        },
        "id": "AwXHGfCv6l7E",
        "outputId": "8ab7b1dc-9cf6-4d98-df4f-f3a59e149e05"
      },
      "outputs": [],
      "source": [
        "\n",
        "df_concat.head()"
      ]
    },
    {
      "cell_type": "code",
      "execution_count": null,
      "metadata": {
        "colab": {
          "base_uri": "https://localhost:8080/"
        },
        "id": "a3SlF-hV6nVB",
        "outputId": "380052b4-287a-4a43-863d-631677c779d6"
      },
      "outputs": [],
      "source": [
        "len(df_concat)"
      ]
    },
    {
      "cell_type": "code",
      "execution_count": null,
      "metadata": {
        "colab": {
          "base_uri": "https://localhost:8080/"
        },
        "id": "M_Uk6IBn6o1u",
        "outputId": "ff74eace-a3fb-43f0-c3f8-ab96adceba2e"
      },
      "outputs": [],
      "source": [
        "cols = df_concat.columns\n",
        "cols"
      ]
    },
    {
      "cell_type": "code",
      "execution_count": null,
      "metadata": {
        "id": "XoRAprVM6qiJ"
      },
      "outputs": [],
      "source": [
        "cols = cols[1:]"
      ]
    },
    {
      "cell_type": "code",
      "execution_count": null,
      "metadata": {
        "colab": {
          "base_uri": "https://localhost:8080/",
          "height": 325
        },
        "id": "vhfD38ew6xZd",
        "outputId": "842af5c7-2a2a-4ed2-86e0-a267db559486"
      },
      "outputs": [],
      "source": [
        "# Since, every disease has multiple symptoms, combine all symptoms per disease per row\n",
        "df_concat = df_concat.groupby('disease').sum()\n",
        "df_concat = df_concat.reset_index()\n",
        "df_concat[:5]"
      ]
    },
    {
      "cell_type": "code",
      "execution_count": null,
      "metadata": {
        "colab": {
          "base_uri": "https://localhost:8080/"
        },
        "id": "dCkAJ5-R62LH",
        "outputId": "3fc01fa4-bd03-47bd-d4c7-fe009c600079"
      },
      "outputs": [],
      "source": [
        "len(df_concat)"
      ]
    },
    {
      "cell_type": "code",
      "execution_count": null,
      "metadata": {
        "id": "v4lwPShS65Em"
      },
      "outputs": [],
      "source": [
        "df_concat.to_csv(\"/content/Training.csv\", index=False)"
      ]
    },
    {
      "cell_type": "code",
      "execution_count": null,
      "metadata": {
        "id": "lYBL3Q6u67CJ"
      },
      "outputs": [],
      "source": [
        "# One Hot Encoded Features\n",
        "X = df_concat[cols]\n",
        "\n",
        "# Labels\n",
        "y = df_concat['disease']"
      ]
    },
    {
      "cell_type": "markdown",
      "metadata": {
        "id": "Bcp99mAa7LCL"
      },
      "source": [
        "Model Training"
      ]
    },
    {
      "cell_type": "code",
      "execution_count": null,
      "metadata": {
        "id": "5-kOZqaU7O4l"
      },
      "outputs": [],
      "source": [
        "from sklearn.model_selection import train_test_split\n",
        "from sklearn.naive_bayes import MultinomialNB\n",
        "from sklearn import tree\n",
        "from sklearn.tree import DecisionTreeClassifier, export_graphviz"
      ]
    },
    {
      "cell_type": "code",
      "execution_count": null,
      "metadata": {
        "id": "OuUcinQV7QdC"
      },
      "outputs": [],
      "source": [
        "# Train Test Split\n",
        "X_train, X_test, y_train, y_test = train_test_split(X, y, test_size=0.2, random_state=101)"
      ]
    },
    {
      "cell_type": "code",
      "execution_count": null,
      "metadata": {
        "colab": {
          "base_uri": "https://localhost:8080/"
        },
        "id": "fcu5Q6MH7SFr",
        "outputId": "3bad4a29-bd33-41ed-bb5b-478d73a815e6"
      },
      "outputs": [],
      "source": [
        "len(X_train), len(y_train)"
      ]
    },
    {
      "cell_type": "code",
      "execution_count": null,
      "metadata": {
        "colab": {
          "base_uri": "https://localhost:8080/"
        },
        "id": "gtRA6u-B7U2g",
        "outputId": "42872a2f-85ff-4168-bbfc-5837739592aa"
      },
      "outputs": [],
      "source": [
        "len(X_test), len(y_test)"
      ]
    },
    {
      "cell_type": "code",
      "execution_count": null,
      "metadata": {
        "id": "QoTvBnZ37Wo0"
      },
      "outputs": [],
      "source": [
        "dt = DecisionTreeClassifier()\n",
        "clf_dt=dt.fit(X, y)\n"
      ]
    },
    {
      "cell_type": "code",
      "execution_count": null,
      "metadata": {
        "colab": {
          "base_uri": "https://localhost:8080/"
        },
        "id": "OLgXlNjC7bDa",
        "outputId": "48409e46-a51a-4f50-aaf0-28305357d2f2"
      },
      "outputs": [],
      "source": [
        "clf_dt.score(X, y)"
      ]
    },
    {
      "cell_type": "code",
      "execution_count": null,
      "metadata": {
        "id": "ndUFXnXd7czy"
      },
      "outputs": [],
      "source": [
        "export_graphviz(dt,\n",
        "                out_file='./tree.dot',\n",
        "                feature_names=cols)"
      ]
    },
    {
      "cell_type": "code",
      "execution_count": null,
      "metadata": {
        "colab": {
          "base_uri": "https://localhost:8080/"
        },
        "id": "AFRD6PVZ7fIx",
        "outputId": "5798d7ab-d212-497e-b2a3-8938ed56b71b"
      },
      "outputs": [],
      "source": [
        "%pip install graphviz"
      ]
    },
    {
      "cell_type": "code",
      "execution_count": null,
      "metadata": {
        "id": "Zinn2ccg7gzk"
      },
      "outputs": [],
      "source": [
        "from graphviz import Source\n",
        "from sklearn import tree\n",
        "\n",
        "graph = Source(export_graphviz(dt,\n",
        "                out_file=None,\n",
        "                feature_names=cols))\n",
        "\n",
        "png_bytes = graph.pipe(format='png')\n",
        "\n",
        "with open('tree.png','wb') as f:\n",
        "    f.write(png_bytes)"
      ]
    },
    {
      "cell_type": "code",
      "execution_count": null,
      "metadata": {
        "colab": {
          "base_uri": "https://localhost:8080/",
          "height": 904
        },
        "id": "mmDZ7V8V7kKb",
        "outputId": "8754b402-8bc7-4189-fa2e-6ec6299184bb"
      },
      "outputs": [],
      "source": [
        "from IPython.display import Image\n",
        "Image(png_bytes)"
      ]
    },
    {
      "cell_type": "code",
      "execution_count": null,
      "metadata": {
        "id": "fdS04mwW7weE"
      },
      "outputs": [],
      "source": [
        "disease_pred = clf_dt.predict(X)"
      ]
    },
    {
      "cell_type": "code",
      "execution_count": null,
      "metadata": {
        "id": "KnXs8hMu8Axb"
      },
      "outputs": [],
      "source": [
        "disease_real = y.values"
      ]
    },
    {
      "cell_type": "code",
      "execution_count": null,
      "metadata": {
        "colab": {
          "base_uri": "https://localhost:8080/"
        },
        "id": "fHpXTgNb8B6j",
        "outputId": "02b04dfe-eec7-493a-8226-70f7d756a1e6"
      },
      "outputs": [],
      "source": [
        "for i in range(0, len(disease_real)):\n",
        "    if disease_pred[i]!=disease_real[i]:\n",
        "        print ('Pred: {0}\\nActual: {1}\\n'.format(disease_pred[i], disease_real[i]))"
      ]
    },
    {
      "cell_type": "code",
      "execution_count": null,
      "metadata": {
        "id": "MXWynFtgZY7r"
      },
      "outputs": [],
      "source": []
    }
  ],
  "metadata": {
    "colab": {
      "provenance": []
    },
    "kernelspec": {
      "display_name": "Python 3",
      "name": "python3"
    },
    "language_info": {
      "codemirror_mode": {
        "name": "ipython",
        "version": 3
      },
      "file_extension": ".py",
      "mimetype": "text/x-python",
      "name": "python",
      "nbconvert_exporter": "python",
      "pygments_lexer": "ipython3",
      "version": "3.12.0"
    }
  },
  "nbformat": 4,
  "nbformat_minor": 0
}
